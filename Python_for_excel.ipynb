{
 "cells": [
  {
   "cell_type": "markdown",
   "metadata": {},
   "source": [
    "# Install or upgrade the required libraries and packages\n",
    "Mostly requires pandas and openpyxl"
   ]
  },
  {
   "cell_type": "code",
   "execution_count": 3,
   "metadata": {},
   "outputs": [
    {
     "name": "stdout",
     "output_type": "stream",
     "text": [
      "Collecting openpyxl\n",
      "  Using cached openpyxl-3.1.5-py2.py3-none-any.whl.metadata (2.5 kB)\n",
      "Collecting et-xmlfile (from openpyxl)\n",
      "  Using cached et_xmlfile-1.1.0-py3-none-any.whl.metadata (1.8 kB)\n",
      "Using cached openpyxl-3.1.5-py2.py3-none-any.whl (250 kB)\n",
      "Using cached et_xmlfile-1.1.0-py3-none-any.whl (4.7 kB)\n",
      "Installing collected packages: et-xmlfile, openpyxl\n",
      "Successfully installed et-xmlfile-1.1.0 openpyxl-3.1.5\n",
      "Note: you may need to restart the kernel to use updated packages.\n"
     ]
    },
    {
     "name": "stderr",
     "output_type": "stream",
     "text": [
      "\n",
      "[notice] A new release of pip is available: 23.3.2 -> 24.2\n",
      "[notice] To update, run: python.exe -m pip install --upgrade pip\n"
     ]
    }
   ],
   "source": [
    "pip install --upgrade openpyxl"
   ]
  },
  {
   "cell_type": "code",
   "execution_count": 10,
   "metadata": {},
   "outputs": [],
   "source": [
    "import pandas as pd\n",
    "from openpyxl import load_workbook\n",
    "import os"
   ]
  },
  {
   "cell_type": "markdown",
   "metadata": {},
   "source": [
    "\n",
    "# Check whether the workbook is loaded successfully or not"
   ]
  },
  {
   "cell_type": "code",
   "execution_count": 45,
   "metadata": {},
   "outputs": [],
   "source": [
    "# Load the pre-existing .xlsx file\n",
    "xlsx_file = r'D:\\test.xlsx'  "
   ]
  },
  {
   "cell_type": "code",
   "execution_count": 38,
   "metadata": {},
   "outputs": [
    {
     "name": "stdout",
     "output_type": "stream",
     "text": [
      "Test workbook loaded successfully!\n"
     ]
    }
   ],
   "source": [
    "from openpyxl import Workbook\n",
    "\n",
    "# Create a new workbook and save it\n",
    "test_file = r'D:\\test.xlsx'\n",
    "wb = Workbook()\n",
    "ws = wb.active\n",
    "ws['A1'] = 'Test'\n",
    "wb.save(test_file)\n",
    "\n",
    "# Attempt to load the new file\n",
    "try:\n",
    "    book = load_workbook(test_file)\n",
    "    print(\"Test workbook loaded successfully!\")\n",
    "except Exception as e:\n",
    "    print(f\"An error occurred with the test file: {e}\")\n"
   ]
  },
  {
   "cell_type": "markdown",
   "metadata": {},
   "source": [
    "# Now execute the given code to copy the content and paste in .xlsx file"
   ]
  },
  {
   "cell_type": "code",
   "execution_count": 11,
   "metadata": {},
   "outputs": [],
   "source": [
    "# Directory containing the .csv files\n",
    "# Define the folder path and output file name\n",
    "folder_path = 'D:\\land_data'  # Replace with your .csv files directory path\n",
    "output_file = 'D:\\data_sheet.xlsx'  # Replace with your .xlsx file path"
   ]
  },
  {
   "cell_type": "code",
   "execution_count": 7,
   "metadata": {},
   "outputs": [
    {
     "name": "stdout",
     "output_type": "stream",
     "text": [
      "Successful\n"
     ]
    }
   ],
   "source": [
    "import os\n",
    "import csv\n",
    "import openpyxl\n",
    "\n",
    "def csv_to_xlsx(folder_path, output_file):\n",
    "    workbook = openpyxl.Workbook()\n",
    "    sheet = workbook.active\n",
    "    sheet.title = \"Filtered Data\"\n",
    "    row_index = 1\n",
    "\n",
    "    # Iterate through all .csv files in the folder\n",
    "    for filename in os.listdir(folder_path):\n",
    "        if filename.endswith(\".csv\"):\n",
    "            csv_file_path = os.path.join(folder_path, filename)\n",
    "            with open(csv_file_path, mode='r', newline='', encoding='utf-8') as csvfile:\n",
    "                reader = csv.reader(csvfile)\n",
    "                for row in reader:\n",
    "                    if row and row[0].startswith(\"Kew\"):\n",
    "                        for col_index, value in enumerate(row, start=1):\n",
    "                            sheet.cell(row=row_index, column=col_index, value=value)\n",
    "                        row_index += 1\n",
    "\n",
    "    # Save the workbook to the specified output file\n",
    "    workbook.save(output_file)\n",
    "    print(\"Successful\")\n",
    "\n",
    "\n",
    "\n",
    "# Run the function\n",
    "csv_to_xlsx(folder_path, output_file)\n"
   ]
  }
 ],
 "metadata": {
  "kernelspec": {
   "display_name": "base",
   "language": "python",
   "name": "python3"
  },
  "language_info": {
   "codemirror_mode": {
    "name": "ipython",
    "version": 3
   },
   "file_extension": ".py",
   "mimetype": "text/x-python",
   "name": "python",
   "nbconvert_exporter": "python",
   "pygments_lexer": "ipython3",
   "version": "3.11.4"
  }
 },
 "nbformat": 4,
 "nbformat_minor": 2
}
